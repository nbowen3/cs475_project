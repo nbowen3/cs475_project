{
 "cells": [
  {
   "cell_type": "code",
   "execution_count": 1,
   "metadata": {},
   "outputs": [
    {
     "name": "stdout",
     "output_type": "stream",
     "text": [
      "['20190906', 'csv']\n",
      "['20200108', 'csv']\n",
      "['20200325', 'csv']\n",
      "['20190607', 'csv']\n",
      "['20190314', 'csv']\n"
     ]
    }
   ],
   "source": [
    "import os\n",
    "import pandas as pd\n",
    "import statistics\n",
    "\n",
    "dir = \"./tesla_data\"\n",
    "cols = [\"date\", \"pos_mean_likes\", \"pos_mean_replies\", \"pos_mean_retweet\",\"neu_mean_likes\", \"neu_mean_replies\", \"neu_mean_retweet\",\"neg_mean_likes\", \"neg_mean_replies\", \"neg_mean_retweet\"]\n",
    "out_df = pd.DataFrame(columns=cols)\n",
    "for filename in os.listdir(dir):\n",
    "  f = os.path.join(dir, filename)\n",
    "  if not f.endswith(\".csv\"):\n",
    "    continue\n",
    "  tweet_df = pd.read_csv(f, engine='python')\n",
    "  filename = filename.split(\".\")\n",
    "  date = filename[0]\n",
    "  if \"positive\" not in tweet_df:\n",
    "    print(filename)\n",
    "    continue\n",
    "  likes = tweet_df[\"likes_count\"].values\n",
    "  replies = tweet_df[\"replies_count\"].values\n",
    "  retweet = tweet_df[\"retweets_count\"].values\n",
    "  pos = tweet_df[\"positive\"].values\n",
    "  pos_mean_likes = sum(pos * likes) / len(pos)\n",
    "  pos_mean_replies = sum(pos * replies) / len(pos)\n",
    "  pos_mean_retweet = sum(pos * retweet) / len(pos)\n",
    "  # pos_sd = statistics.pstdev(pos)\n",
    "  neu = tweet_df[\"neutral\"].values\n",
    "  neu_mean_likes = sum(neu * likes) / len(neu)\n",
    "  neu_mean_replies = sum(neu * replies) / len(neu)\n",
    "  neu_mean_retweet = sum(neu * retweet) / len(neu)\n",
    "  # neu_mean = sum(neu) / len(neu)\n",
    "  # neu_sd = statistics.pstdev(neu)\n",
    "  neg = tweet_df[\"negative\"].values\n",
    "  neg_mean_likes = sum(neg * likes) / len(neg)\n",
    "  neg_mean_replies = sum(neg * replies) / len(neg)\n",
    "  neg_mean_retweet = sum(neg * retweet) / len(neg)\n",
    "  # neg_mean = sum(neg) / len(neg)\n",
    "  # neg_sd = statistics.pstdev(neg)\n",
    "  row = [date, pos_mean_likes, pos_mean_replies, pos_mean_retweet, neu_mean_likes, neu_mean_replies, neu_mean_retweet, neg_mean_likes, neg_mean_replies, neg_mean_retweet]\n",
    "  out_df.loc[out_df.shape[0]] = row\n",
    "    \n",
    "dailysentiments = out_df.sort_values(\"date\")\n",
    "dailysentiments.to_csv('dailysentiments.csv', index=False)\n",
    "\n",
    "  "
   ]
  },
  {
   "cell_type": "code",
   "execution_count": null,
   "metadata": {},
   "outputs": [],
   "source": []
  }
 ],
 "metadata": {
  "interpreter": {
   "hash": "aee8b7b246df8f9039afb4144a1f6fd8d2ca17a180786b69acc140d282b71a49"
  },
  "kernelspec": {
   "display_name": "Python 3 (ipykernel)",
   "language": "python",
   "name": "python3"
  },
  "language_info": {
   "codemirror_mode": {
    "name": "ipython",
    "version": 3
   },
   "file_extension": ".py",
   "mimetype": "text/x-python",
   "name": "python",
   "nbconvert_exporter": "python",
   "pygments_lexer": "ipython3",
   "version": "3.9.7"
  }
 },
 "nbformat": 4,
 "nbformat_minor": 4
}
