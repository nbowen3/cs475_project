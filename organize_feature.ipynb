{
 "cells": [
  {
   "cell_type": "code",
   "execution_count": 10,
   "metadata": {},
   "outputs": [
    {
     "name": "stdout",
     "output_type": "stream",
     "text": [
      "         date  pos_mean    pos_sd  neu_mean    neu_sd  neg_mean    neg_sd\n",
      "617  20170101  0.389289  0.278815  0.550918  0.271281  0.059792  0.132426\n",
      "712  20170102  0.405631  0.297854  0.526066  0.270588  0.068304  0.100616\n",
      "657  20170103  0.204310  0.305864  0.369249  0.198773  0.426441  0.289451\n",
      "529  20170104  0.260648  0.209138  0.620133  0.230882  0.119219  0.241072\n",
      "476  20170105  0.397876  0.232893  0.522812  0.168254  0.079312  0.167570\n",
      "..        ...       ...       ...       ...       ...       ...       ...\n",
      "721  20201227  0.495777  0.365542  0.399551  0.304094  0.104671  0.213257\n",
      "906  20201228  0.408934  0.347921  0.457482  0.300991  0.133583  0.246821\n",
      "834  20201229  0.429391  0.341881  0.426625  0.280735  0.143984  0.249932\n",
      "629  20201230  0.380229  0.349274  0.452505  0.298677  0.167265  0.271876\n",
      "559  20201231  0.515613  0.376542  0.369042  0.311157  0.115344  0.224526\n",
      "\n",
      "[1456 rows x 7 columns]\n"
     ]
    }
   ],
   "source": [
    "import os\n",
    "import pandas as pd\n",
    "import statistics\n",
    "\n",
    "dir = \"./tesla_data\"\n",
    "cols = [\"date\", \"pos_mean\", \"pos_sd\", \"neu_mean\", \"neu_sd\", \"neg_mean\", \"neg_sd\"]\n",
    "out_df = pd.DataFrame(columns=cols)\n",
    "for filename in os.listdir(dir):\n",
    "  f = os.path.join(dir, filename)\n",
    "  if not f.endswith(\".csv\"):\n",
    "    continue\n",
    "  tweet_df = pd.read_csv(f, engine='python')\n",
    "  filename = filename.split(\".\")\n",
    "  date = filename[0]\n",
    "  if \"positive\" not in tweet_df:\n",
    "    print(filename)\n",
    "  pos = tweet_df[\"positive\"].values\n",
    "  pos_mean = sum(pos) / len(pos)\n",
    "  pos_sd = statistics.pstdev(pos)\n",
    "  neu = tweet_df[\"neutral\"].values\n",
    "  neu_mean = sum(neu) / len(neu)\n",
    "  neu_sd = statistics.pstdev(neu)\n",
    "  neg = tweet_df[\"negative\"].values\n",
    "  neg_mean = sum(neg) / len(neg)\n",
    "  neg_sd = statistics.pstdev(neg)\n",
    "  row = [date, pos_mean, pos_sd, neu_mean, neu_sd, neg_mean, neg_sd]\n",
    "  out_df.loc[out_df.shape[0]] = row\n",
    "out_df = out_df.sort_values(\"date\")\n",
    "print(out_df)\n",
    "\n",
    "  "
   ]
  }
 ],
 "metadata": {
  "interpreter": {
   "hash": "aee8b7b246df8f9039afb4144a1f6fd8d2ca17a180786b69acc140d282b71a49"
  },
  "kernelspec": {
   "display_name": "Python 3.9.7 64-bit",
   "language": "python",
   "name": "python3"
  },
  "language_info": {
   "codemirror_mode": {
    "name": "ipython",
    "version": 3
   },
   "file_extension": ".py",
   "mimetype": "text/x-python",
   "name": "python",
   "nbconvert_exporter": "python",
   "pygments_lexer": "ipython3",
   "version": "3.7.4"
  },
  "orig_nbformat": 4
 },
 "nbformat": 4,
 "nbformat_minor": 2
}
