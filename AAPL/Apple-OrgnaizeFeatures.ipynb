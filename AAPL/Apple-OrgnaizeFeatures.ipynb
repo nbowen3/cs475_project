{
 "cells": [
  {
   "cell_type": "code",
   "execution_count": 2,
   "id": "5ef5b20e-3055-40ff-8c86-1cfa29ea7ef2",
   "metadata": {},
   "outputs": [],
   "source": [
    "import os\n",
    "import pandas as pd\n",
    "import statistics\n",
    "\n",
    "dir = \"./tweets_sentiment\"\n",
    "cols = [\"date\", \"pos_mean\", \"pos_sd\", \"neu_mean\", \"neu_sd\", \"neg_mean\", \"neg_sd\"]\n",
    "out_df = pd.DataFrame(columns=cols)\n",
    "for filename in os.listdir(dir):\n",
    "  f = os.path.join(dir, filename)\n",
    "  if not f.endswith(\".csv\"):\n",
    "    continue\n",
    "  tweet_df = pd.read_csv(f, engine='python')\n",
    "  filename = filename.split(\".\")\n",
    "  date = filename[0]\n",
    "  if \"positive\" not in tweet_df:\n",
    "    print(filename)\n",
    "    continue\n",
    "  pos = tweet_df[\"positive\"].values\n",
    "  pos_mean = sum(pos) / len(pos)\n",
    "  pos_sd = statistics.pstdev(pos)\n",
    "  neu = tweet_df[\"neutral\"].values\n",
    "  neu_mean = sum(neu) / len(neu)\n",
    "  neu_sd = statistics.pstdev(neu)\n",
    "  neg = tweet_df[\"negative\"].values\n",
    "  neg_mean = sum(neg) / len(neg)\n",
    "  neg_sd = statistics.pstdev(neg)\n",
    "  row = [date, pos_mean, pos_sd, neu_mean, neu_sd, neg_mean, neg_sd]\n",
    "  out_df.loc[out_df.shape[0]] = row\n",
    "out_df = out_df.sort_values(\"date\")\n",
    "out_df.to_csv('dailysentiments.csv', index=False)"
   ]
  },
  {
   "cell_type": "code",
   "execution_count": null,
   "id": "a9dd0c5b-7bc9-4e2d-938b-2d735f2901d0",
   "metadata": {},
   "outputs": [],
   "source": []
  }
 ],
 "metadata": {
  "kernelspec": {
   "display_name": "Python 3 (ipykernel)",
   "language": "python",
   "name": "python3"
  },
  "language_info": {
   "codemirror_mode": {
    "name": "ipython",
    "version": 3
   },
   "file_extension": ".py",
   "mimetype": "text/x-python",
   "name": "python",
   "nbconvert_exporter": "python",
   "pygments_lexer": "ipython3",
   "version": "3.9.7"
  }
 },
 "nbformat": 4,
 "nbformat_minor": 5
}
