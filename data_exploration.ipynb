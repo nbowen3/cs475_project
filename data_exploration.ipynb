{
 "cells": [
  {
   "cell_type": "code",
   "execution_count": 2,
   "metadata": {},
   "outputs": [],
   "source": [
    "import pandas as pd\n",
    "import numpy as np \n",
    "import sklearn\n",
    "import matplotlib.pyplot as plt"
   ]
  },
  {
   "cell_type": "code",
   "execution_count": 3,
   "metadata": {},
   "outputs": [],
   "source": [
    "DF_list = list() # create a list to store all dataframes in \n",
    "\n",
    "DF_list.append(pd.read_csv(\"database_prev5days.csv\"))\n",
    "DF_list.append(pd.read_csv(\"database_prev7days.csv\"))\n",
    "DF_list.append(pd.read_csv(\"database_prev10days.csv\"))"
   ]
  },
  {
   "cell_type": "code",
   "execution_count": 4,
   "metadata": {},
   "outputs": [
    {
     "name": "stdout",
     "output_type": "stream",
     "text": [
      " 1.0    568\n",
      "-1.0    424\n",
      "Name: Diff, dtype: int64\n"
     ]
    },
    {
     "data": {
      "image/png": "[encoded data removed]",
      "text/plain": [
       "<Figure size 432x288 with 1 Axes>"
      ]
     },
     "metadata": {
      "needs_background": "light"
     },
     "output_type": "display_data"
    },
    {
     "name": "stdout",
     "output_type": "stream",
     "text": [
      " 1.0    533\n",
      "-1.0    449\n",
      " 0.0      1\n",
      "Name: Diff, dtype: int64\n"
     ]
    },
    {
     "data": {
      "image/png": "[encoded data removed]",
      "text/plain": [
       "<Figure size 432x288 with 1 Axes>"
      ]
     },
     "metadata": {
      "needs_background": "light"
     },
     "output_type": "display_data"
    },
    {
     "name": "stdout",
     "output_type": "stream",
     "text": [
      " 1.0    529\n",
      "-1.0    445\n",
      " 0.0      1\n",
      "Name: Diff, dtype: int64\n"
     ]
    },
    {
     "data": {
      "image/png": "[encoded data removed]",
      "text/plain": [
       "<Figure size 432x288 with 1 Axes>"
      ]
     },
     "metadata": {
      "needs_background": "light"
     },
     "output_type": "display_data"
    }
   ],
   "source": [
    "for df in DF_list:\n",
    "    plot = df[\"Diff\"].hist()\n",
    "    print(df[\"Diff\"].value_counts())\n",
    "    plt.show()\n",
    "\n"
   ]
  },
  {
   "cell_type": "code",
   "execution_count": 13,
   "metadata": {},
   "outputs": [
    {
     "name": "stdout",
     "output_type": "stream",
     "text": [
      "Feature: day10_pos_mean_likes, Score: 0.00756\n",
      "Feature: day10_pos_mean_replies, Score: 0.00840\n",
      "Feature: day10_pos_mean_retweet, Score: 0.00888\n",
      "Feature: day10_pos_sd, Score: 0.00741\n",
      "Feature: day10_neu_mean_likes, Score: 0.00885\n",
      "Feature: day10_neu_mean_replies, Score: 0.00708\n",
      "Feature: day10_neu_mean_retweet, Score: 0.01035\n",
      "Feature: day10_neu_sd, Score: 0.00923\n",
      "Feature: day10_neg_mean_likes, Score: 0.00783\n",
      "Feature: day10_neg_mean_replies, Score: 0.00902\n",
      "Feature: day10_neg_mean_retweet, Score: 0.00804\n",
      "Feature: day10_neg_sd, Score: 0.00931\n",
      "Feature: day9_pos_mean_likes, Score: 0.00794\n",
      "Feature: day9_pos_mean_replies, Score: 0.00921\n",
      "Feature: day9_pos_mean_retweet, Score: 0.00867\n",
      "Feature: day9_pos_sd, Score: 0.00767\n",
      "Feature: day9_neu_mean_likes, Score: 0.00959\n",
      "Feature: day9_neu_mean_replies, Score: 0.00881\n",
      "Feature: day9_neu_mean_retweet, Score: 0.00995\n",
      "Feature: day9_neu_sd, Score: 0.01039\n",
      "Feature: day9_neg_mean_likes, Score: 0.00933\n",
      "Feature: day9_neg_mean_replies, Score: 0.00771\n",
      "Feature: day9_neg_mean_retweet, Score: 0.00894\n",
      "Feature: day9_neg_sd, Score: 0.00894\n",
      "Feature: day8_pos_mean_likes, Score: 0.00755\n",
      "Feature: day8_pos_mean_replies, Score: 0.00789\n",
      "Feature: day8_pos_mean_retweet, Score: 0.00917\n",
      "Feature: day8_pos_sd, Score: 0.00938\n",
      "Feature: day8_neu_mean_likes, Score: 0.00793\n",
      "Feature: day8_neu_mean_replies, Score: 0.00908\n",
      "Feature: day8_neu_mean_retweet, Score: 0.00852\n",
      "Feature: day8_neu_sd, Score: 0.00777\n",
      "Feature: day8_neg_mean_likes, Score: 0.00783\n",
      "Feature: day8_neg_mean_replies, Score: 0.00672\n",
      "Feature: day8_neg_mean_retweet, Score: 0.00851\n",
      "Feature: day8_neg_sd, Score: 0.00843\n",
      "Feature: day7_pos_mean_likes, Score: 0.00644\n",
      "Feature: day7_pos_mean_replies, Score: 0.00760\n",
      "Feature: day7_pos_mean_retweet, Score: 0.00595\n",
      "Feature: day7_pos_sd, Score: 0.00839\n",
      "Feature: day7_neu_mean_likes, Score: 0.00851\n",
      "Feature: day7_neu_mean_replies, Score: 0.00565\n",
      "Feature: day7_neu_mean_retweet, Score: 0.00837\n",
      "Feature: day7_neu_sd, Score: 0.01109\n",
      "Feature: day7_neg_mean_likes, Score: 0.00903\n",
      "Feature: day7_neg_mean_replies, Score: 0.00722\n",
      "Feature: day7_neg_mean_retweet, Score: 0.00792\n",
      "Feature: day7_neg_sd, Score: 0.00826\n",
      "Feature: day6_pos_mean_likes, Score: 0.00634\n",
      "Feature: day6_pos_mean_replies, Score: 0.00469\n",
      "Feature: day6_pos_mean_retweet, Score: 0.00597\n",
      "Feature: day6_pos_sd, Score: 0.01017\n",
      "Feature: day6_neu_mean_likes, Score: 0.00614\n",
      "Feature: day6_neu_mean_replies, Score: 0.00822\n",
      "Feature: day6_neu_mean_retweet, Score: 0.00607\n",
      "Feature: day6_neu_sd, Score: 0.00772\n",
      "Feature: day6_neg_mean_likes, Score: 0.00731\n",
      "Feature: day6_neg_mean_replies, Score: 0.00787\n",
      "Feature: day6_neg_mean_retweet, Score: 0.00619\n",
      "Feature: day6_neg_sd, Score: 0.00813\n",
      "Feature: day5_pos_mean_likes, Score: 0.00655\n",
      "Feature: day5_pos_mean_replies, Score: 0.00586\n",
      "Feature: day5_pos_mean_retweet, Score: 0.00720\n",
      "Feature: day5_pos_sd, Score: 0.00867\n",
      "Feature: day5_neu_mean_likes, Score: 0.00783\n",
      "Feature: day5_neu_mean_replies, Score: 0.00601\n",
      "Feature: day5_neu_mean_retweet, Score: 0.00754\n",
      "Feature: day5_neu_sd, Score: 0.01034\n",
      "Feature: day5_neg_mean_likes, Score: 0.00733\n",
      "Feature: day5_neg_mean_replies, Score: 0.00844\n",
      "Feature: day5_neg_mean_retweet, Score: 0.00967\n",
      "Feature: day5_neg_sd, Score: 0.01076\n",
      "Feature: day4_pos_mean_likes, Score: 0.00719\n",
      "Feature: day4_pos_mean_replies, Score: 0.00816\n",
      "Feature: day4_pos_mean_retweet, Score: 0.00970\n",
      "Feature: day4_pos_sd, Score: 0.00721\n",
      "Feature: day4_neu_mean_likes, Score: 0.00729\n",
      "Feature: day4_neu_mean_replies, Score: 0.00750\n",
      "Feature: day4_neu_mean_retweet, Score: 0.00675\n",
      "Feature: day4_neu_sd, Score: 0.01044\n",
      "Feature: day4_neg_mean_likes, Score: 0.00692\n",
      "Feature: day4_neg_mean_replies, Score: 0.01029\n",
      "Feature: day4_neg_mean_retweet, Score: 0.00914\n",
      "Feature: day4_neg_sd, Score: 0.00893\n",
      "Feature: day3_pos_mean_likes, Score: 0.00796\n",
      "Feature: day3_pos_mean_replies, Score: 0.00653\n",
      "Feature: day3_pos_mean_retweet, Score: 0.00880\n",
      "Feature: day3_pos_sd, Score: 0.00873\n",
      "Feature: day3_neu_mean_likes, Score: 0.00859\n",
      "Feature: day3_neu_mean_replies, Score: 0.00858\n",
      "Feature: day3_neu_mean_retweet, Score: 0.00692\n",
      "Feature: day3_neu_sd, Score: 0.00986\n",
      "Feature: day3_neg_mean_likes, Score: 0.01050\n",
      "Feature: day3_neg_mean_replies, Score: 0.00857\n",
      "Feature: day3_neg_mean_retweet, Score: 0.00946\n",
      "Feature: day3_neg_sd, Score: 0.00963\n",
      "Feature: day2_pos_mean_likes, Score: 0.00944\n",
      "Feature: day2_pos_mean_replies, Score: 0.00868\n",
      "Feature: day2_pos_mean_retweet, Score: 0.00717\n",
      "Feature: day2_pos_sd, Score: 0.00726\n",
      "Feature: day2_neu_mean_likes, Score: 0.00597\n",
      "Feature: day2_neu_mean_replies, Score: 0.00956\n",
      "Feature: day2_neu_mean_retweet, Score: 0.00692\n",
      "Feature: day2_neu_sd, Score: 0.00919\n",
      "Feature: day2_neg_mean_likes, Score: 0.00819\n",
      "Feature: day2_neg_mean_replies, Score: 0.00782\n",
      "Feature: day2_neg_mean_retweet, Score: 0.00793\n",
      "Feature: day2_neg_sd, Score: 0.00722\n",
      "Feature: day1_pos_mean_likes, Score: 0.00721\n",
      "Feature: day1_pos_mean_replies, Score: 0.01051\n",
      "Feature: day1_pos_mean_retweet, Score: 0.00857\n",
      "Feature: day1_pos_sd, Score: 0.00659\n",
      "Feature: day1_neu_mean_likes, Score: 0.01144\n",
      "Feature: day1_neu_mean_replies, Score: 0.00861\n",
      "Feature: day1_neu_mean_retweet, Score: 0.01149\n",
      "Feature: day1_neu_sd, Score: 0.00810\n",
      "Feature: day1_neg_mean_likes, Score: 0.00817\n",
      "Feature: day1_neg_mean_replies, Score: 0.01180\n",
      "Feature: day1_neg_mean_retweet, Score: 0.00656\n",
      "Feature: day1_neg_sd, Score: 0.00803\n",
      "Feature: prev2_Diff, Score: 0.01064\n"
     ]
    }
   ],
   "source": [
    "from sklearn.feature_selection import SelectFromModel\n",
    "from sklearn.linear_model import LogisticRegression\n",
    "from sklearn.ensemble import RandomForestClassifier\n",
    "\n",
    "\n",
    "df = pd.read_csv('database_prev10days_attemp4.csv')\n",
    "df = df[df.Diff != 0]\n",
    "X = df.drop(columns = [\"Diff\",\"date\",\"Unnamed: 0\"])\n",
    "y = df[['Diff']]\n",
    "y = y.to_numpy().flatten()\n",
    "\n",
    "# selector = SelectFromModel(estimator=RandomForestClassifier()).fit(X, y)\n",
    "model = RandomForestClassifier()\n",
    "model.fit(X=X, y=y)\n",
    "importance = model.feature_importances_\n",
    "for i,v in enumerate(importance):\n",
    "    print('Feature: %s, Score: %.5f' % (X.columns[i],v))"
   ]
  },
  {
   "cell_type": "code",
   "execution_count": null,
   "metadata": {},
   "outputs": [],
   "source": []
  },
  {
   "cell_type": "code",
   "execution_count": null,
   "metadata": {},
   "outputs": [],
   "source": []
  }
 ],
 "metadata": {
  "interpreter": {
   "hash": "31f2aee4e71d21fbe5cf8b01ff0e069b9275f58929596ceb00d14d90e3e16cd6"
  },
  "kernelspec": {
   "display_name": "Python 3 (ipykernel)",
   "language": "python",
   "name": "python3"
  },
  "language_info": {
   "codemirror_mode": {
    "name": "ipython",
    "version": 3
   },
   "file_extension": ".py",
   "mimetype": "text/x-python",
   "name": "python",
   "nbconvert_exporter": "python",
   "pygments_lexer": "ipython3",
   "version": "3.9.7"
  }
 },
 "nbformat": 4,
 "nbformat_minor": 4
}
